{
 "cells": [
  {
   "cell_type": "markdown",
   "metadata": {},
   "source": [
    "<h1>What is Selenium</h1>\n",
    "Selenium is a popular Python library that provides a way to automate web browsers. It allows you to control a web browser through Python code and perform various actions on web pages, such as filling out forms, clicking buttons, and navigating between pages."
   ]
  },
  {
   "cell_type": "code",
   "execution_count": 157,
   "metadata": {},
   "outputs": [],
   "source": [
    "from selenium import webdriver\n",
    "from time import sleep\n",
    "from selenium.webdriver.common.by import By\n",
    "from selenium.common.exceptions import NoSuchElementException\n",
    "from bs4 import BeautifulSoup\n",
    "import urllib.request"
   ]
  },
  {
   "cell_type": "code",
   "execution_count": 158,
   "metadata": {},
   "outputs": [],
   "source": [
    "# create an instance of ChromeDriver\n",
    "driver = webdriver.Chrome()"
   ]
  },
  {
   "cell_type": "code",
   "execution_count": 159,
   "metadata": {},
   "outputs": [],
   "source": [
    "#Navigate to the url below\n",
    "url = 'https://www.jumia.ma/catalog/?q=pc-portable&price=2956-36500#catalog-listing'\n",
    "driver.get(url)\n",
    "sleep(10)"
   ]
  },
  {
   "cell_type": "markdown",
   "metadata": {},
   "source": [
    "<h1>Localizing the data </h1>"
   ]
  },
  {
   "cell_type": "code",
   "execution_count": 161,
   "metadata": {},
   "outputs": [
    {
     "data": {
      "text/plain": [
       "52"
      ]
     },
     "execution_count": 161,
     "metadata": {},
     "output_type": "execute_result"
    }
   ],
   "source": [
    "#find the articles\n",
    "articles = driver.find_elements(By.XPATH,'//article[contains(@class, \"prd _fb col c-prd\") or contains(@class,\"prd _fb _spn c-prd col\")]')\n",
    "\n",
    "#how many article do we have\n",
    "len(articles)"
   ]
  },
  {
   "cell_type": "markdown",
   "metadata": {},
   "source": [
    "<h1> Extracting data for an article </h1>"
   ]
  },
  {
   "cell_type": "code",
   "execution_count": 162,
   "metadata": {},
   "outputs": [],
   "source": [
    "#Catching the last element\n",
    "for article in articles :\n",
    "    pass\n"
   ]
  },
  {
   "cell_type": "code",
   "execution_count": 163,
   "metadata": {},
   "outputs": [
    {
     "name": "stdout",
     "output_type": "stream",
     "text": [
      "The link to the article is https://www.jumia.ma/hp-zbook-fury-17-g7-i7-10850h-64gb-1tb-ssd-rtx-3000-azerty-win10pro-argent-61014744.html\n"
     ]
    }
   ],
   "source": [
    "#Getting the link of the article\n",
    "article_link = article.find_element(By.TAG_NAME,'a').get_attribute('href')\n",
    "print(\"The link to the article is\", article_link)"
   ]
  },
  {
   "cell_type": "code",
   "execution_count": 164,
   "metadata": {},
   "outputs": [
    {
     "name": "stdout",
     "output_type": "stream",
     "text": [
      "the description of the pc: Hp ZBook Fury 17 G7-i7 10850H-64GB-1TB SSD-RTX 3000-Azerty-Win10pro-Argent\n"
     ]
    }
   ],
   "source": [
    "#Getting the name of the article \n",
    "description = article.find_element(By.CLASS_NAME,'name')\n",
    "print ('the description of the pc: ' + description.text)"
   ]
  },
  {
   "cell_type": "code",
   "execution_count": null,
   "metadata": {},
   "outputs": [
    {
     "name": "stdout",
     "output_type": "stream",
     "text": [
      "The price of the pc: 25,600.00 Dhs\n"
     ]
    }
   ],
   "source": [
    "#Getting the price of the product\n",
    "price = article.find_element(By.CLASS_NAME,'prc')\n",
    "print('The price of the pc: ' + price.text)"
   ]
  },
  {
   "cell_type": "code",
   "execution_count": null,
   "metadata": {},
   "outputs": [
    {
     "data": {
      "text/plain": [
       "'26,800.00 Dhs'"
      ]
     },
     "execution_count": 63,
     "metadata": {},
     "output_type": "execute_result"
    }
   ],
   "source": [
    "#Getting the old price of the product\n",
    "old_price = article.find_element(By.CLASS_NAME,'old')\n",
    "print('The old price of the pc: ' + price.text)"
   ]
  },
  {
   "cell_type": "code",
   "execution_count": 1,
   "metadata": {},
   "outputs": [
    {
     "ename": "NameError",
     "evalue": "name 'article' is not defined",
     "output_type": "error",
     "traceback": [
      "\u001b[1;31m---------------------------------------------------------------------------\u001b[0m",
      "\u001b[1;31mNameError\u001b[0m                                 Traceback (most recent call last)",
      "Cell \u001b[1;32mIn[1], line 2\u001b[0m\n\u001b[0;32m      1\u001b[0m \u001b[39m#Getting the discount\u001b[39;00m\n\u001b[1;32m----> 2\u001b[0m discount \u001b[39m=\u001b[39m article\u001b[39m.\u001b[39mfind_element(By\u001b[39m.\u001b[39mXPATH,\u001b[39m'\u001b[39m\u001b[39m.//div[@class=\u001b[39m\u001b[39m\"\u001b[39m\u001b[39mbdg _dsct _sm\u001b[39m\u001b[39m\"\u001b[39m\u001b[39m]\u001b[39m\u001b[39m'\u001b[39m)\n\u001b[0;32m      3\u001b[0m \u001b[39mprint\u001b[39m (\u001b[39m'\u001b[39m\u001b[39mthe discount is: -\u001b[39m\u001b[39m'\u001b[39m \u001b[39m+\u001b[39m discount\u001b[39m.\u001b[39mtext)\n",
      "\u001b[1;31mNameError\u001b[0m: name 'article' is not defined"
     ]
    }
   ],
   "source": [
    "#Getting the discount\n",
    "discount = article.find_element(By.XPATH,'.//div[@class=\"bdg _dsct _sm\"]')\n",
    "print ('the discount is: -' + discount.text)"
   ]
  },
  {
   "cell_type": "code",
   "execution_count": null,
   "metadata": {},
   "outputs": [
    {
     "name": "stdout",
     "output_type": "stream",
     "text": [
      "The rating given to this pc is:  None\n"
     ]
    }
   ],
   "source": [
    "#Getting the rating. Here, if the rating does not exist we give to the rating variable None\n",
    "try:\n",
    "    rating = article.find_element(By.XPATH,'.//div[@class=\"stars _s\"]')\n",
    "except NoSuchElementException:\n",
    "    rating = None\n",
    "print('The rating given to this pc is: ',rating)"
   ]
  },
  {
   "cell_type": "code",
   "execution_count": null,
   "metadata": {},
   "outputs": [
    {
     "name": "stdout",
     "output_type": "stream",
     "text": [
      "The link of the image is: https://ma.jumia.is/unsafe/fit-in/300x300/filters:fill(white)/product/44/741016/1.jpg?5981\n"
     ]
    }
   ],
   "source": [
    " #Getting the image link \n",
    "src = article.find_element(By.XPATH,'.//img[@class=\"img\"]').get_attribute(\"src\")\n",
    "print('The link of the image is: ' + src)\n",
    " "
   ]
  },
  {
   "cell_type": "markdown",
   "metadata": {},
   "source": [
    "<h1> Downloading an image </h1>"
   ]
  },
  {
   "cell_type": "code",
   "execution_count": null,
   "metadata": {},
   "outputs": [],
   "source": [
    "#Defining a function that download an image\n",
    "def get_img(url_img,id):\n",
    "    r = requests.get(url_img)\n",
    "    if r.status_code == 200:\n",
    "        img_container=\"image_\"+str(id)+\".png\"\n",
    "        with open(img_container, 'wb') as f:\n",
    "            f.write(r.content)\n"
   ]
  },
  {
   "cell_type": "code",
   "execution_count": null,
   "metadata": {},
   "outputs": [
    {
     "ename": "AttributeError",
     "evalue": "'WebDriver' object has no attribute 'find_element_by_tag_name'",
     "output_type": "error",
     "traceback": [
      "\u001b[1;31m---------------------------------------------------------------------------\u001b[0m",
      "\u001b[1;31mAttributeError\u001b[0m                            Traceback (most recent call last)",
      "Cell \u001b[1;32mIn[136], line 2\u001b[0m\n\u001b[0;32m      1\u001b[0m \u001b[39m#Dowloading an image \u001b[39;00m\n\u001b[1;32m----> 2\u001b[0m download_image_from_src(src,\u001b[39m'\u001b[39;49m\u001b[39m.\u001b[39;49m\u001b[39m'\u001b[39;49m)\n",
      "Cell \u001b[1;32mIn[135], line 5\u001b[0m, in \u001b[0;36mdownload_image_from_src\u001b[1;34m(src, save_path)\u001b[0m\n\u001b[0;32m      3\u001b[0m driver \u001b[39m=\u001b[39m webdriver\u001b[39m.\u001b[39mChrome()  \u001b[39m# or any other browser driver of your choice\u001b[39;00m\n\u001b[0;32m      4\u001b[0m driver\u001b[39m.\u001b[39mget(\u001b[39m\"\u001b[39m\u001b[39mdata:text/html;charset=utf-8,\u001b[39m\u001b[39m\"\u001b[39m \u001b[39m+\u001b[39m src)\n\u001b[1;32m----> 5\u001b[0m img_src \u001b[39m=\u001b[39m driver\u001b[39m.\u001b[39;49mfind_element_by_tag_name(\u001b[39m'\u001b[39m\u001b[39mimg\u001b[39m\u001b[39m'\u001b[39m)\u001b[39m.\u001b[39mget_attribute(\u001b[39m'\u001b[39m\u001b[39msrc\u001b[39m\u001b[39m'\u001b[39m)\n\u001b[0;32m      6\u001b[0m urllib\u001b[39m.\u001b[39mrequest\u001b[39m.\u001b[39murlretrieve(img_src, save_path)\n\u001b[0;32m      7\u001b[0m driver\u001b[39m.\u001b[39mquit()\n",
      "\u001b[1;31mAttributeError\u001b[0m: 'WebDriver' object has no attribute 'find_element_by_tag_name'"
     ]
    }
   ],
   "source": [
    "#Dowloading an image \n",
    "download_image_from_src(src,'1')"
   ]
  },
  {
   "cell_type": "markdown",
   "metadata": {},
   "source": [
    "<h1>Saving data in csv format </h1>"
   ]
  },
  {
   "cell_type": "code",
   "execution_count": null,
   "metadata": {},
   "outputs": [
    {
     "ename": "WebDriverException",
     "evalue": "Message: disconnected: not connected to DevTools\n  (failed to check if window was closed: disconnected: not connected to DevTools)\n  (Session info: chrome=110.0.5481.104)\nStacktrace:\nBacktrace:\n\t(No symbol) [0x00E337D3]\n\t(No symbol) [0x00DC8B81]\n\t(No symbol) [0x00CCB36D]\n\t(No symbol) [0x00CBCB66]\n\t(No symbol) [0x00CBC889]\n\t(No symbol) [0x00CCCB00]\n\t(No symbol) [0x00D30AA0]\n\t(No symbol) [0x00D1B216]\n\t(No symbol) [0x00CF0D97]\n\t(No symbol) [0x00CF253D]\n\tGetHandleVerifier [0x010AABF2+2510930]\n\tGetHandleVerifier [0x010D8EC1+2700065]\n\tGetHandleVerifier [0x010DC86C+2714828]\n\tGetHandleVerifier [0x00EE3480+645344]\n\t(No symbol) [0x00DD0FD2]\n\t(No symbol) [0x00DD6C68]\n\t(No symbol) [0x00DD6D4B]\n\t(No symbol) [0x00DE0D6B]\n\tBaseThreadInitThunk [0x76A06BD9+25]\n\tRtlGetFullPathName_UEx [0x77DD8FD2+1218]\n\tRtlGetFullPathName_UEx [0x77DD8F9D+1165]\n",
     "output_type": "error",
     "traceback": [
      "\u001b[1;31m---------------------------------------------------------------------------\u001b[0m",
      "\u001b[1;31mWebDriverException\u001b[0m                        Traceback (most recent call last)",
      "Cell \u001b[1;32mIn[142], line 7\u001b[0m\n\u001b[0;32m      5\u001b[0m \u001b[39mfor\u001b[39;00m i \u001b[39min\u001b[39;00m \u001b[39mrange\u001b[39m (\u001b[39m0\u001b[39m,\u001b[39mlen\u001b[39m(articles)):\n\u001b[0;32m      6\u001b[0m     article \u001b[39m=\u001b[39m articles[i]\n\u001b[1;32m----> 7\u001b[0m     description \u001b[39m=\u001b[39m article\u001b[39m.\u001b[39;49mfind_element(By\u001b[39m.\u001b[39;49mCLASS_NAME,\u001b[39m'\u001b[39;49m\u001b[39mname\u001b[39;49m\u001b[39m'\u001b[39;49m)\n\u001b[0;32m      8\u001b[0m     price \u001b[39m=\u001b[39m article\u001b[39m.\u001b[39mfind_element(By\u001b[39m.\u001b[39mCLASS_NAME,\u001b[39m'\u001b[39m\u001b[39mprc\u001b[39m\u001b[39m'\u001b[39m)\n\u001b[0;32m      9\u001b[0m     \u001b[39mtry\u001b[39;00m:\n",
      "File \u001b[1;32mc:\\Users\\Jamila Afer\\AppData\\Local\\Programs\\Python\\Python311\\Lib\\site-packages\\selenium\\webdriver\\remote\\webelement.py:425\u001b[0m, in \u001b[0;36mWebElement.find_element\u001b[1;34m(self, by, value)\u001b[0m\n\u001b[0;32m    422\u001b[0m     by \u001b[39m=\u001b[39m By\u001b[39m.\u001b[39mCSS_SELECTOR\n\u001b[0;32m    423\u001b[0m     value \u001b[39m=\u001b[39m \u001b[39mf\u001b[39m\u001b[39m'\u001b[39m\u001b[39m[name=\u001b[39m\u001b[39m\"\u001b[39m\u001b[39m{\u001b[39;00mvalue\u001b[39m}\u001b[39;00m\u001b[39m\"\u001b[39m\u001b[39m]\u001b[39m\u001b[39m'\u001b[39m\n\u001b[1;32m--> 425\u001b[0m \u001b[39mreturn\u001b[39;00m \u001b[39mself\u001b[39;49m\u001b[39m.\u001b[39;49m_execute(Command\u001b[39m.\u001b[39;49mFIND_CHILD_ELEMENT, {\u001b[39m\"\u001b[39;49m\u001b[39musing\u001b[39;49m\u001b[39m\"\u001b[39;49m: by, \u001b[39m\"\u001b[39;49m\u001b[39mvalue\u001b[39;49m\u001b[39m\"\u001b[39;49m: value})[\u001b[39m\"\u001b[39m\u001b[39mvalue\u001b[39m\u001b[39m\"\u001b[39m]\n",
      "File \u001b[1;32mc:\\Users\\Jamila Afer\\AppData\\Local\\Programs\\Python\\Python311\\Lib\\site-packages\\selenium\\webdriver\\remote\\webelement.py:403\u001b[0m, in \u001b[0;36mWebElement._execute\u001b[1;34m(self, command, params)\u001b[0m\n\u001b[0;32m    401\u001b[0m     params \u001b[39m=\u001b[39m {}\n\u001b[0;32m    402\u001b[0m params[\u001b[39m\"\u001b[39m\u001b[39mid\u001b[39m\u001b[39m\"\u001b[39m] \u001b[39m=\u001b[39m \u001b[39mself\u001b[39m\u001b[39m.\u001b[39m_id\n\u001b[1;32m--> 403\u001b[0m \u001b[39mreturn\u001b[39;00m \u001b[39mself\u001b[39;49m\u001b[39m.\u001b[39;49m_parent\u001b[39m.\u001b[39;49mexecute(command, params)\n",
      "File \u001b[1;32mc:\\Users\\Jamila Afer\\AppData\\Local\\Programs\\Python\\Python311\\Lib\\site-packages\\selenium\\webdriver\\remote\\webdriver.py:440\u001b[0m, in \u001b[0;36mWebDriver.execute\u001b[1;34m(self, driver_command, params)\u001b[0m\n\u001b[0;32m    438\u001b[0m response \u001b[39m=\u001b[39m \u001b[39mself\u001b[39m\u001b[39m.\u001b[39mcommand_executor\u001b[39m.\u001b[39mexecute(driver_command, params)\n\u001b[0;32m    439\u001b[0m \u001b[39mif\u001b[39;00m response:\n\u001b[1;32m--> 440\u001b[0m     \u001b[39mself\u001b[39;49m\u001b[39m.\u001b[39;49merror_handler\u001b[39m.\u001b[39;49mcheck_response(response)\n\u001b[0;32m    441\u001b[0m     response[\u001b[39m\"\u001b[39m\u001b[39mvalue\u001b[39m\u001b[39m\"\u001b[39m] \u001b[39m=\u001b[39m \u001b[39mself\u001b[39m\u001b[39m.\u001b[39m_unwrap_value(response\u001b[39m.\u001b[39mget(\u001b[39m\"\u001b[39m\u001b[39mvalue\u001b[39m\u001b[39m\"\u001b[39m, \u001b[39mNone\u001b[39;00m))\n\u001b[0;32m    442\u001b[0m     \u001b[39mreturn\u001b[39;00m response\n",
      "File \u001b[1;32mc:\\Users\\Jamila Afer\\AppData\\Local\\Programs\\Python\\Python311\\Lib\\site-packages\\selenium\\webdriver\\remote\\errorhandler.py:245\u001b[0m, in \u001b[0;36mErrorHandler.check_response\u001b[1;34m(self, response)\u001b[0m\n\u001b[0;32m    243\u001b[0m         alert_text \u001b[39m=\u001b[39m value[\u001b[39m\"\u001b[39m\u001b[39malert\u001b[39m\u001b[39m\"\u001b[39m]\u001b[39m.\u001b[39mget(\u001b[39m\"\u001b[39m\u001b[39mtext\u001b[39m\u001b[39m\"\u001b[39m)\n\u001b[0;32m    244\u001b[0m     \u001b[39mraise\u001b[39;00m exception_class(message, screen, stacktrace, alert_text)  \u001b[39m# type: ignore[call-arg]  # mypy is not smart enough here\u001b[39;00m\n\u001b[1;32m--> 245\u001b[0m \u001b[39mraise\u001b[39;00m exception_class(message, screen, stacktrace)\n",
      "\u001b[1;31mWebDriverException\u001b[0m: Message: disconnected: not connected to DevTools\n  (failed to check if window was closed: disconnected: not connected to DevTools)\n  (Session info: chrome=110.0.5481.104)\nStacktrace:\nBacktrace:\n\t(No symbol) [0x00E337D3]\n\t(No symbol) [0x00DC8B81]\n\t(No symbol) [0x00CCB36D]\n\t(No symbol) [0x00CBCB66]\n\t(No symbol) [0x00CBC889]\n\t(No symbol) [0x00CCCB00]\n\t(No symbol) [0x00D30AA0]\n\t(No symbol) [0x00D1B216]\n\t(No symbol) [0x00CF0D97]\n\t(No symbol) [0x00CF253D]\n\tGetHandleVerifier [0x010AABF2+2510930]\n\tGetHandleVerifier [0x010D8EC1+2700065]\n\tGetHandleVerifier [0x010DC86C+2714828]\n\tGetHandleVerifier [0x00EE3480+645344]\n\t(No symbol) [0x00DD0FD2]\n\t(No symbol) [0x00DD6C68]\n\t(No symbol) [0x00DD6D4B]\n\t(No symbol) [0x00DE0D6B]\n\tBaseThreadInitThunk [0x76A06BD9+25]\n\tRtlGetFullPathName_UEx [0x77DD8FD2+1218]\n\tRtlGetFullPathName_UEx [0x77DD8F9D+1165]\n"
     ]
    }
   ],
   "source": [
    "import csv\n",
    "with open ('data_jumia_selecium.csv','w') as output:\n",
    "    writer = csv.writer(output, delimiter='|',lineterminator='\\n')\n",
    "    writer.writerow(['Decription                                ','Price    ','Old price','Discount','Rating','Link               ','Image'])\n",
    "    for i in range (0,len(articles)):\n",
    "        article = articles[i]\n",
    "        description = article.find_element(By.CLASS_NAME,'name')\n",
    "        price = article.find_element(By.CLASS_NAME,'prc')\n",
    "        try:\n",
    "            old_price = article.find_element(By.CLASS_NAME,'old')\n",
    "        except:\n",
    "            old_price = None\n",
    "        discount = article.find_element(By.XPATH,'.//div[@class=\"bdg _dsct _sm\"]')\n",
    "        try:\n",
    "            rating = article.find_element(By.XPATH,'.//div[@class=\"stars _s\"]')\n",
    "        except NoSuchElementException:\n",
    "            rating = None\n",
    "        link = article.find_element(By.TAG_NAME,'a').get_attribute('href')\n",
    "        image_src = article.find_element(By.XPATH,'.//img[@class=\"img\"]').get_attribute(\"src\")\n",
    "        writer.writerow([description,price,old_price,discount,rating,link,image_src])\n",
    "     "
   ]
  }
 ],
 "metadata": {
  "kernelspec": {
   "display_name": "Python 3 (ipykernel)",
   "language": "python",
   "name": "python3"
  },
  "language_info": {
   "codemirror_mode": {
    "name": "ipython",
    "version": 3
   },
   "file_extension": ".py",
   "mimetype": "text/x-python",
   "name": "python",
   "nbconvert_exporter": "python",
   "pygments_lexer": "ipython3",
   "version": "3.9.13"
  },
  "vscode": {
   "interpreter": {
    "hash": "84265baa5a8d0ec3cc1bcf95aab08682f0a35836406bba89c4e22f177197a6ca"
   }
  }
 },
 "nbformat": 4,
 "nbformat_minor": 2
}
